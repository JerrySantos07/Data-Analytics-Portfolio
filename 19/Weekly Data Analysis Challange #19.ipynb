{
 "cells": [
  {
   "attachments": {},
   "cell_type": "markdown",
   "metadata": {},
   "source": [
    "WEEKLY DATA ANALYSIS CHALLANGE #19"
   ]
  },
  {
   "cell_type": "code",
   "execution_count": 1,
   "metadata": {},
   "outputs": [],
   "source": [
    "import numpy as np\n",
    "import pandas as pd\n",
    "from matplotlib import pyplot as plt\n",
    "import seaborn as sns"
   ]
  },
  {
   "cell_type": "code",
   "execution_count": 2,
   "metadata": {},
   "outputs": [
    {
     "data": {
      "text/html": [
       "<div>\n",
       "<style scoped>\n",
       "    .dataframe tbody tr th:only-of-type {\n",
       "        vertical-align: middle;\n",
       "    }\n",
       "\n",
       "    .dataframe tbody tr th {\n",
       "        vertical-align: top;\n",
       "    }\n",
       "\n",
       "    .dataframe thead th {\n",
       "        text-align: right;\n",
       "    }\n",
       "</style>\n",
       "<table border=\"1\" class=\"dataframe\">\n",
       "  <thead>\n",
       "    <tr style=\"text-align: right;\">\n",
       "      <th></th>\n",
       "      <th>coaster_name</th>\n",
       "      <th>Length</th>\n",
       "      <th>Speed</th>\n",
       "      <th>Location</th>\n",
       "      <th>Status</th>\n",
       "      <th>Opening date</th>\n",
       "      <th>Type</th>\n",
       "      <th>Manufacturer</th>\n",
       "      <th>Height restriction</th>\n",
       "      <th>Model</th>\n",
       "      <th>...</th>\n",
       "      <th>speed1</th>\n",
       "      <th>speed2</th>\n",
       "      <th>speed1_value</th>\n",
       "      <th>speed1_unit</th>\n",
       "      <th>speed_mph</th>\n",
       "      <th>height_value</th>\n",
       "      <th>height_unit</th>\n",
       "      <th>height_ft</th>\n",
       "      <th>Inversions_clean</th>\n",
       "      <th>Gforce_clean</th>\n",
       "    </tr>\n",
       "  </thead>\n",
       "  <tbody>\n",
       "    <tr>\n",
       "      <th>0</th>\n",
       "      <td>Switchback Railway</td>\n",
       "      <td>600 ft (180 m)</td>\n",
       "      <td>6 mph (9.7 km/h)</td>\n",
       "      <td>Coney Island</td>\n",
       "      <td>Removed</td>\n",
       "      <td>June 16, 1884</td>\n",
       "      <td>Wood</td>\n",
       "      <td>LaMarcus Adna Thompson</td>\n",
       "      <td>NaN</td>\n",
       "      <td>Lift Packed</td>\n",
       "      <td>...</td>\n",
       "      <td>6 mph</td>\n",
       "      <td>9.7 km/h</td>\n",
       "      <td>6.0</td>\n",
       "      <td>mph</td>\n",
       "      <td>6.0</td>\n",
       "      <td>50.0</td>\n",
       "      <td>ft</td>\n",
       "      <td>50.00</td>\n",
       "      <td>0</td>\n",
       "      <td>2.9</td>\n",
       "    </tr>\n",
       "    <tr>\n",
       "      <th>1</th>\n",
       "      <td>Flip Flap Railway</td>\n",
       "      <td>NaN</td>\n",
       "      <td>NaN</td>\n",
       "      <td>Sea Lion Park</td>\n",
       "      <td>Removed</td>\n",
       "      <td>1895</td>\n",
       "      <td>Wood</td>\n",
       "      <td>Lina Beecher</td>\n",
       "      <td>NaN</td>\n",
       "      <td>NaN</td>\n",
       "      <td>...</td>\n",
       "      <td>NaN</td>\n",
       "      <td>NaN</td>\n",
       "      <td>NaN</td>\n",
       "      <td>NaN</td>\n",
       "      <td>NaN</td>\n",
       "      <td>NaN</td>\n",
       "      <td>NaN</td>\n",
       "      <td></td>\n",
       "      <td>1</td>\n",
       "      <td>12.0</td>\n",
       "    </tr>\n",
       "    <tr>\n",
       "      <th>2</th>\n",
       "      <td>Switchback Railway (Euclid Beach Park)</td>\n",
       "      <td>NaN</td>\n",
       "      <td>NaN</td>\n",
       "      <td>Cleveland, Ohio, United States</td>\n",
       "      <td>Closed</td>\n",
       "      <td>NaN</td>\n",
       "      <td>Other</td>\n",
       "      <td>NaN</td>\n",
       "      <td>NaN</td>\n",
       "      <td>NaN</td>\n",
       "      <td>...</td>\n",
       "      <td>NaN</td>\n",
       "      <td>NaN</td>\n",
       "      <td>NaN</td>\n",
       "      <td>NaN</td>\n",
       "      <td>NaN</td>\n",
       "      <td>NaN</td>\n",
       "      <td>NaN</td>\n",
       "      <td></td>\n",
       "      <td>0</td>\n",
       "      <td>NaN</td>\n",
       "    </tr>\n",
       "    <tr>\n",
       "      <th>3</th>\n",
       "      <td>Loop the Loop (Coney Island)</td>\n",
       "      <td>NaN</td>\n",
       "      <td>NaN</td>\n",
       "      <td>Other</td>\n",
       "      <td>Removed</td>\n",
       "      <td>1901</td>\n",
       "      <td>Steel</td>\n",
       "      <td>Edwin Prescott</td>\n",
       "      <td>NaN</td>\n",
       "      <td>NaN</td>\n",
       "      <td>...</td>\n",
       "      <td>NaN</td>\n",
       "      <td>NaN</td>\n",
       "      <td>NaN</td>\n",
       "      <td>NaN</td>\n",
       "      <td>NaN</td>\n",
       "      <td>NaN</td>\n",
       "      <td>NaN</td>\n",
       "      <td></td>\n",
       "      <td>1</td>\n",
       "      <td>NaN</td>\n",
       "    </tr>\n",
       "    <tr>\n",
       "      <th>4</th>\n",
       "      <td>Loop the Loop (Young's Pier)</td>\n",
       "      <td>NaN</td>\n",
       "      <td>NaN</td>\n",
       "      <td>Other</td>\n",
       "      <td>Removed</td>\n",
       "      <td>1901</td>\n",
       "      <td>Steel</td>\n",
       "      <td>Edwin Prescott</td>\n",
       "      <td>NaN</td>\n",
       "      <td>NaN</td>\n",
       "      <td>...</td>\n",
       "      <td>NaN</td>\n",
       "      <td>NaN</td>\n",
       "      <td>NaN</td>\n",
       "      <td>NaN</td>\n",
       "      <td>NaN</td>\n",
       "      <td>NaN</td>\n",
       "      <td>NaN</td>\n",
       "      <td></td>\n",
       "      <td>1</td>\n",
       "      <td>NaN</td>\n",
       "    </tr>\n",
       "  </tbody>\n",
       "</table>\n",
       "<p>5 rows × 56 columns</p>\n",
       "</div>"
      ],
      "text/plain": [
       "                             coaster_name          Length             Speed  \\\n",
       "0                      Switchback Railway  600 ft (180 m)  6 mph (9.7 km/h)   \n",
       "1                       Flip Flap Railway             NaN               NaN   \n",
       "2  Switchback Railway (Euclid Beach Park)             NaN               NaN   \n",
       "3            Loop the Loop (Coney Island)             NaN               NaN   \n",
       "4            Loop the Loop (Young's Pier)             NaN               NaN   \n",
       "\n",
       "                         Location   Status   Opening date   Type  \\\n",
       "0                    Coney Island  Removed  June 16, 1884   Wood   \n",
       "1                   Sea Lion Park  Removed           1895   Wood   \n",
       "2  Cleveland, Ohio, United States   Closed            NaN  Other   \n",
       "3                           Other  Removed           1901  Steel   \n",
       "4                           Other  Removed           1901  Steel   \n",
       "\n",
       "             Manufacturer Height restriction        Model  ...  speed1  \\\n",
       "0  LaMarcus Adna Thompson                NaN  Lift Packed  ...  6 mph    \n",
       "1            Lina Beecher                NaN          NaN  ...     NaN   \n",
       "2                     NaN                NaN          NaN  ...     NaN   \n",
       "3          Edwin Prescott                NaN          NaN  ...     NaN   \n",
       "4          Edwin Prescott                NaN          NaN  ...     NaN   \n",
       "\n",
       "     speed2 speed1_value speed1_unit speed_mph height_value height_unit  \\\n",
       "0  9.7 km/h          6.0         mph       6.0         50.0          ft   \n",
       "1       NaN          NaN         NaN       NaN          NaN         NaN   \n",
       "2       NaN          NaN         NaN       NaN          NaN         NaN   \n",
       "3       NaN          NaN         NaN       NaN          NaN         NaN   \n",
       "4       NaN          NaN         NaN       NaN          NaN         NaN   \n",
       "\n",
       "  height_ft Inversions_clean Gforce_clean  \n",
       "0     50.00                0          2.9  \n",
       "1                          1         12.0  \n",
       "2                          0          NaN  \n",
       "3                          1          NaN  \n",
       "4                          1          NaN  \n",
       "\n",
       "[5 rows x 56 columns]"
      ]
     },
     "execution_count": 2,
     "metadata": {},
     "output_type": "execute_result"
    }
   ],
   "source": [
    "cst = pd.read_csv('coastal_db.csv')\n",
    "cst.head()"
   ]
  },
  {
   "attachments": {},
   "cell_type": "markdown",
   "metadata": {},
   "source": [
    "Number of rows and columns"
   ]
  },
  {
   "cell_type": "code",
   "execution_count": 3,
   "metadata": {},
   "outputs": [
    {
     "name": "stdout",
     "output_type": "stream",
     "text": [
      "This dataset has 1087 rows and 56 columns\n"
     ]
    }
   ],
   "source": [
    "num_rows, num_columns = cst.shape\n",
    "print(f'This dataset has {num_rows} rows and {num_columns} columns')"
   ]
  },
  {
   "attachments": {},
   "cell_type": "markdown",
   "metadata": {},
   "source": [
    "Is there any missing data?"
   ]
  },
  {
   "cell_type": "code",
   "execution_count": 4,
   "metadata": {},
   "outputs": [
    {
     "data": {
      "text/plain": [
       "coaster_name                        0\n",
       "Length                            134\n",
       "Speed                             150\n",
       "Location                            0\n",
       "Status                            213\n",
       "Opening date                      250\n",
       "Type                                0\n",
       "Manufacturer                       59\n",
       "Height restriction                256\n",
       "Model                             343\n",
       "Height                            122\n",
       "Inversions                        155\n",
       "Lift/launch system                292\n",
       "Cost                              705\n",
       "Trains                            369\n",
       "Park section                      600\n",
       "Duration                          322\n",
       "Capacity                          512\n",
       "G-force                           725\n",
       "Designer                          509\n",
       "Max vertical angle                730\n",
       "Drop                              593\n",
       "Soft opening date                 991\n",
       "Fast Lane available              1018\n",
       "Replaced                          914\n",
       "Track layout                      752\n",
       "Fastrack available               1068\n",
       "Soft opening date.1               991\n",
       "Closing date                      851\n",
       "Opened                           1060\n",
       "Replaced by                       999\n",
       "Website                          1000\n",
       "Flash Pass Available             1037\n",
       "Must transfer from wheelchair     981\n",
       "Theme                            1043\n",
       "Single rider line available      1006\n",
       "Restraint Style                  1065\n",
       "Flash Pass available2            1041\n",
       "Acceleration                     1027\n",
       "Restraints                       1063\n",
       "Name                             1052\n",
       "year_introduced                     0\n",
       "latitude                          275\n",
       "longitude                         275\n",
       "Type_Main                           0\n",
       "opening_date_clean                250\n",
       "speed1                            150\n",
       "speed2                            152\n",
       "speed1_value                      150\n",
       "speed1_unit                       150\n",
       "speed_mph                         150\n",
       "height_value                      122\n",
       "height_unit                       122\n",
       "height_ft                           0\n",
       "Inversions_clean                    0\n",
       "Gforce_clean                      725\n",
       "dtype: int64"
      ]
     },
     "execution_count": 4,
     "metadata": {},
     "output_type": "execute_result"
    }
   ],
   "source": [
    "cst.isnull().sum()"
   ]
  },
  {
   "cell_type": "code",
   "execution_count": 5,
   "metadata": {},
   "outputs": [
    {
     "data": {
      "text/plain": [
       "coaster_name            0\n",
       "Location                0\n",
       "Manufacturer           59\n",
       "year_introduced         0\n",
       "Type_Main               0\n",
       "opening_date_clean    250\n",
       "speed_mph             150\n",
       "height_ft               0\n",
       "Inversions_clean        0\n",
       "Gforce_clean          725\n",
       "dtype: int64"
      ]
     },
     "execution_count": 5,
     "metadata": {},
     "output_type": "execute_result"
    }
   ],
   "source": [
    "remove = ['Length',\n",
    "          'Speed',\n",
    "          'Status',\n",
    "          'Opening date',\n",
    "          'Type', \n",
    "          'Height restriction', \n",
    "          'Model',\n",
    "          'Height', \n",
    "          'Inversions', \n",
    "          'Lift/launch system',\n",
    "          'Cost', \n",
    "          'Trains', \n",
    "          'Park section',\n",
    "          'Duration',\n",
    "          'Capacity', \n",
    "          'G-force',\n",
    "          'Designer',\n",
    "          'Max vertical angle',\n",
    "          'Drop',\n",
    "          'Soft opening date',\n",
    "          'Fast Lane available',\n",
    "          'Replaced',\n",
    "          'Track layout',\n",
    "          'Fastrack available',\n",
    "          'Soft opening date.1',\n",
    "          'Closing date',\n",
    "          'Opened',\n",
    "          'Replaced by',\n",
    "          'Website',\n",
    "          'Flash Pass Available',\n",
    "          'Must transfer from wheelchair',\n",
    "          'Theme',\n",
    "          'Single rider line available',\n",
    "          'Restraint Style',\n",
    "          'Flash Pass available2',\n",
    "          'Acceleration',\n",
    "          'Restraints',\n",
    "          'Name',\n",
    "          'latitude',\n",
    "          'longitude',\n",
    "          'speed1',\n",
    "          'speed2',\n",
    "          'speed1_value',\n",
    "          'speed1_unit',\n",
    "          'height_value',\n",
    "          'height_unit']\n",
    "\n",
    "cst_2 = cst.drop(remove, axis=1)\n",
    "cst_2.isnull().sum()"
   ]
  },
  {
   "cell_type": "code",
   "execution_count": 6,
   "metadata": {},
   "outputs": [
    {
     "data": {
      "text/plain": [
       "coaster_name          0\n",
       "Location              0\n",
       "Manufacturer          0\n",
       "year_introduced       0\n",
       "Type_Main             0\n",
       "opening_date_clean    0\n",
       "speed_mph             0\n",
       "height_ft             0\n",
       "Inversions_clean      0\n",
       "Gforce_clean          0\n",
       "dtype: int64"
      ]
     },
     "execution_count": 6,
     "metadata": {},
     "output_type": "execute_result"
    }
   ],
   "source": [
    "cst_2 = cst_2.dropna()\n",
    "cst_2.isnull().sum()"
   ]
  },
  {
   "cell_type": "code",
   "execution_count": 7,
   "metadata": {},
   "outputs": [
    {
     "name": "stdout",
     "output_type": "stream",
     "text": [
      "This dataset has 282 rows and 10 columns\n"
     ]
    }
   ],
   "source": [
    "num_row, num_column = cst_2.shape\n",
    "print(f'This dataset has {num_row} rows and {num_column} columns')"
   ]
  },
  {
   "attachments": {},
   "cell_type": "markdown",
   "metadata": {},
   "source": [
    "Display the summary statistics of the numeric columns using the describe method."
   ]
  },
  {
   "cell_type": "code",
   "execution_count": 8,
   "metadata": {},
   "outputs": [
    {
     "data": {
      "text/html": [
       "<div>\n",
       "<style scoped>\n",
       "    .dataframe tbody tr th:only-of-type {\n",
       "        vertical-align: middle;\n",
       "    }\n",
       "\n",
       "    .dataframe tbody tr th {\n",
       "        vertical-align: top;\n",
       "    }\n",
       "\n",
       "    .dataframe thead th {\n",
       "        text-align: right;\n",
       "    }\n",
       "</style>\n",
       "<table border=\"1\" class=\"dataframe\">\n",
       "  <thead>\n",
       "    <tr style=\"text-align: right;\">\n",
       "      <th></th>\n",
       "      <th>year_introduced</th>\n",
       "      <th>speed_mph</th>\n",
       "      <th>Inversions_clean</th>\n",
       "      <th>Gforce_clean</th>\n",
       "    </tr>\n",
       "  </thead>\n",
       "  <tbody>\n",
       "    <tr>\n",
       "      <th>count</th>\n",
       "      <td>282.000000</td>\n",
       "      <td>282.000000</td>\n",
       "      <td>282.000000</td>\n",
       "      <td>282.000000</td>\n",
       "    </tr>\n",
       "    <tr>\n",
       "      <th>mean</th>\n",
       "      <td>2000.109929</td>\n",
       "      <td>54.313121</td>\n",
       "      <td>1.758865</td>\n",
       "      <td>3.749433</td>\n",
       "    </tr>\n",
       "    <tr>\n",
       "      <th>std</th>\n",
       "      <td>15.370813</td>\n",
       "      <td>17.295847</td>\n",
       "      <td>2.342249</td>\n",
       "      <td>0.894507</td>\n",
       "    </tr>\n",
       "    <tr>\n",
       "      <th>min</th>\n",
       "      <td>1884.000000</td>\n",
       "      <td>6.000000</td>\n",
       "      <td>0.000000</td>\n",
       "      <td>0.800000</td>\n",
       "    </tr>\n",
       "    <tr>\n",
       "      <th>25%</th>\n",
       "      <td>1995.000000</td>\n",
       "      <td>45.000000</td>\n",
       "      <td>0.000000</td>\n",
       "      <td>3.400000</td>\n",
       "    </tr>\n",
       "    <tr>\n",
       "      <th>50%</th>\n",
       "      <td>2001.000000</td>\n",
       "      <td>54.050000</td>\n",
       "      <td>0.000000</td>\n",
       "      <td>3.950000</td>\n",
       "    </tr>\n",
       "    <tr>\n",
       "      <th>75%</th>\n",
       "      <td>2009.000000</td>\n",
       "      <td>65.000000</td>\n",
       "      <td>3.000000</td>\n",
       "      <td>4.300000</td>\n",
       "    </tr>\n",
       "    <tr>\n",
       "      <th>max</th>\n",
       "      <td>2022.000000</td>\n",
       "      <td>149.100000</td>\n",
       "      <td>14.000000</td>\n",
       "      <td>6.500000</td>\n",
       "    </tr>\n",
       "  </tbody>\n",
       "</table>\n",
       "</div>"
      ],
      "text/plain": [
       "       year_introduced   speed_mph  Inversions_clean  Gforce_clean\n",
       "count       282.000000  282.000000        282.000000    282.000000\n",
       "mean       2000.109929   54.313121          1.758865      3.749433\n",
       "std          15.370813   17.295847          2.342249      0.894507\n",
       "min        1884.000000    6.000000          0.000000      0.800000\n",
       "25%        1995.000000   45.000000          0.000000      3.400000\n",
       "50%        2001.000000   54.050000          0.000000      3.950000\n",
       "75%        2009.000000   65.000000          3.000000      4.300000\n",
       "max        2022.000000  149.100000         14.000000      6.500000"
      ]
     },
     "execution_count": 8,
     "metadata": {},
     "output_type": "execute_result"
    }
   ],
   "source": [
    "cst_2.describe()"
   ]
  },
  {
   "attachments": {},
   "cell_type": "markdown",
   "metadata": {},
   "source": [
    "Rename the following columns:\n",
    "        {\n",
    "            'coaster_name' : 'Coaster_Name',\n",
    "            'year_introduce' : 'Year_Introduced',\n",
    "            'opening_date_clean' : 'Opening_Date',\n",
    "            'speed_mph' : 'Speed_mph',\n",
    "            'height_ft' : 'Height_ft',\n",
    "            'Inversions_clean' : 'Inversions',\n",
    "            'Geforce_celan' : 'Geforce'\n",
    "        }\n"
   ]
  },
  {
   "cell_type": "code",
   "execution_count": 9,
   "metadata": {},
   "outputs": [
    {
     "name": "stdout",
     "output_type": "stream",
     "text": [
      "<class 'pandas.core.frame.DataFrame'>\n",
      "Int64Index: 282 entries, 0 to 1084\n",
      "Data columns (total 10 columns):\n",
      " #   Column           Non-Null Count  Dtype  \n",
      "---  ------           --------------  -----  \n",
      " 0   Coaster_Name     282 non-null    object \n",
      " 1   Location         282 non-null    object \n",
      " 2   Manufacturer     282 non-null    object \n",
      " 3   Year_Introduced  282 non-null    int64  \n",
      " 4   Type_Main        282 non-null    object \n",
      " 5   Opening_Date     282 non-null    object \n",
      " 6   Speed_mph        282 non-null    float64\n",
      " 7   Height_ft        282 non-null    object \n",
      " 8   Inversions       282 non-null    int64  \n",
      " 9   Geforce          282 non-null    float64\n",
      "dtypes: float64(2), int64(2), object(6)\n",
      "memory usage: 24.2+ KB\n"
     ]
    }
   ],
   "source": [
    "replace = {\n",
    "    'coaster_name' : 'Coaster_Name',\n",
    "    'year_introduced' : 'Year_Introduced',\n",
    "    'opening_date_clean' : 'Opening_Date',\n",
    "    'speed_mph' : 'Speed_mph',\n",
    "    'height_ft' : 'Height_ft',\n",
    "    'Inversions_clean' : 'Inversions',\n",
    "    'Gforce_clean' : 'Geforce'\n",
    "}\n",
    "\n",
    "cst_2 = cst_2.rename(columns=replace)\n",
    "cst_2.info()"
   ]
  },
  {
   "attachments": {},
   "cell_type": "markdown",
   "metadata": {},
   "source": [
    "Are there any duplicate rows?"
   ]
  },
  {
   "cell_type": "code",
   "execution_count": 10,
   "metadata": {},
   "outputs": [
    {
     "name": "stdout",
     "output_type": "stream",
     "text": [
      "Total number of duplicate rows is 0\n"
     ]
    }
   ],
   "source": [
    "duplicate = cst_2.duplicated().sum()\n",
    "print(f'Total number of duplicate rows is {duplicate}')"
   ]
  },
  {
   "attachments": {},
   "cell_type": "markdown",
   "metadata": {},
   "source": [
    "What are the top 3 years with the most roller coaster"
   ]
  },
  {
   "cell_type": "code",
   "execution_count": 11,
   "metadata": {},
   "outputs": [
    {
     "data": {
      "text/html": [
       "<div>\n",
       "<style scoped>\n",
       "    .dataframe tbody tr th:only-of-type {\n",
       "        vertical-align: middle;\n",
       "    }\n",
       "\n",
       "    .dataframe tbody tr th {\n",
       "        vertical-align: top;\n",
       "    }\n",
       "\n",
       "    .dataframe thead th {\n",
       "        text-align: right;\n",
       "    }\n",
       "</style>\n",
       "<table border=\"1\" class=\"dataframe\">\n",
       "  <thead>\n",
       "    <tr style=\"text-align: right;\">\n",
       "      <th></th>\n",
       "      <th>Coaster_Name</th>\n",
       "    </tr>\n",
       "    <tr>\n",
       "      <th>Year_Introduced</th>\n",
       "      <th></th>\n",
       "    </tr>\n",
       "  </thead>\n",
       "  <tbody>\n",
       "    <tr>\n",
       "      <th>2000</th>\n",
       "      <td>14</td>\n",
       "    </tr>\n",
       "    <tr>\n",
       "      <th>2001</th>\n",
       "      <td>13</td>\n",
       "    </tr>\n",
       "    <tr>\n",
       "      <th>1999</th>\n",
       "      <td>12</td>\n",
       "    </tr>\n",
       "  </tbody>\n",
       "</table>\n",
       "</div>"
      ],
      "text/plain": [
       "                 Coaster_Name\n",
       "Year_Introduced              \n",
       "2000                       14\n",
       "2001                       13\n",
       "1999                       12"
      ]
     },
     "execution_count": 11,
     "metadata": {},
     "output_type": "execute_result"
    }
   ],
   "source": [
    "year_pivot = cst_2.pivot_table(index='Year_Introduced', values='Coaster_Name', aggfunc='count')\n",
    "n = 3\n",
    "top3_years = year_pivot.nlargest(n, 'Coaster_Name')\n",
    "top3_years"
   ]
  },
  {
   "attachments": {},
   "cell_type": "markdown",
   "metadata": {},
   "source": [
    "What are the top 5 Locations with the most number of coasters"
   ]
  },
  {
   "cell_type": "code",
   "execution_count": 12,
   "metadata": {},
   "outputs": [
    {
     "data": {
      "text/html": [
       "<div>\n",
       "<style scoped>\n",
       "    .dataframe tbody tr th:only-of-type {\n",
       "        vertical-align: middle;\n",
       "    }\n",
       "\n",
       "    .dataframe tbody tr th {\n",
       "        vertical-align: top;\n",
       "    }\n",
       "\n",
       "    .dataframe thead th {\n",
       "        text-align: right;\n",
       "    }\n",
       "</style>\n",
       "<table border=\"1\" class=\"dataframe\">\n",
       "  <thead>\n",
       "    <tr style=\"text-align: right;\">\n",
       "      <th></th>\n",
       "      <th>Coaster_Name</th>\n",
       "    </tr>\n",
       "    <tr>\n",
       "      <th>Location</th>\n",
       "      <th></th>\n",
       "    </tr>\n",
       "  </thead>\n",
       "  <tbody>\n",
       "    <tr>\n",
       "      <th>Other</th>\n",
       "      <td>12</td>\n",
       "    </tr>\n",
       "    <tr>\n",
       "      <th>Kings Island</th>\n",
       "      <td>10</td>\n",
       "    </tr>\n",
       "    <tr>\n",
       "      <th>Six Flags Magic Mountain</th>\n",
       "      <td>10</td>\n",
       "    </tr>\n",
       "    <tr>\n",
       "      <th>Alton Towers</th>\n",
       "      <td>9</td>\n",
       "    </tr>\n",
       "    <tr>\n",
       "      <th>Warner Bros. Movie World</th>\n",
       "      <td>6</td>\n",
       "    </tr>\n",
       "  </tbody>\n",
       "</table>\n",
       "</div>"
      ],
      "text/plain": [
       "                          Coaster_Name\n",
       "Location                              \n",
       "Other                               12\n",
       "Kings Island                        10\n",
       "Six Flags Magic Mountain            10\n",
       "Alton Towers                         9\n",
       "Warner Bros. Movie World             6"
      ]
     },
     "execution_count": 12,
     "metadata": {},
     "output_type": "execute_result"
    }
   ],
   "source": [
    "location = cst_2.pivot_table(index='Location', values='Coaster_Name', aggfunc='count')\n",
    "n = 5\n",
    "top10_location = location.nlargest(n, 'Coaster_Name')\n",
    "\n",
    "top10_location"
   ]
  },
  {
   "attachments": {},
   "cell_type": "markdown",
   "metadata": {},
   "source": [
    "What are the top 10 Manufacturers with the most number of coaster built"
   ]
  },
  {
   "cell_type": "code",
   "execution_count": 13,
   "metadata": {},
   "outputs": [
    {
     "data": {
      "text/html": [
       "<div>\n",
       "<style scoped>\n",
       "    .dataframe tbody tr th:only-of-type {\n",
       "        vertical-align: middle;\n",
       "    }\n",
       "\n",
       "    .dataframe tbody tr th {\n",
       "        vertical-align: top;\n",
       "    }\n",
       "\n",
       "    .dataframe thead th {\n",
       "        text-align: right;\n",
       "    }\n",
       "</style>\n",
       "<table border=\"1\" class=\"dataframe\">\n",
       "  <thead>\n",
       "    <tr style=\"text-align: right;\">\n",
       "      <th></th>\n",
       "      <th>Coaster_Name</th>\n",
       "    </tr>\n",
       "    <tr>\n",
       "      <th>Manufacturer</th>\n",
       "      <th></th>\n",
       "    </tr>\n",
       "  </thead>\n",
       "  <tbody>\n",
       "    <tr>\n",
       "      <th>Bolliger &amp; Mabillard</th>\n",
       "      <td>49</td>\n",
       "    </tr>\n",
       "    <tr>\n",
       "      <th>Vekoma</th>\n",
       "      <td>39</td>\n",
       "    </tr>\n",
       "    <tr>\n",
       "      <th>Intamin</th>\n",
       "      <td>28</td>\n",
       "    </tr>\n",
       "    <tr>\n",
       "      <th>Arrow Dynamics</th>\n",
       "      <td>23</td>\n",
       "    </tr>\n",
       "    <tr>\n",
       "      <th>Mack Rides</th>\n",
       "      <td>19</td>\n",
       "    </tr>\n",
       "    <tr>\n",
       "      <th>Gerstlauer</th>\n",
       "      <td>17</td>\n",
       "    </tr>\n",
       "    <tr>\n",
       "      <th>Rocky Mountain Construction</th>\n",
       "      <td>10</td>\n",
       "    </tr>\n",
       "    <tr>\n",
       "      <th>Anton Schwarzkopf</th>\n",
       "      <td>8</td>\n",
       "    </tr>\n",
       "    <tr>\n",
       "      <th>Custom Coasters International</th>\n",
       "      <td>8</td>\n",
       "    </tr>\n",
       "    <tr>\n",
       "      <th>Premier Rides</th>\n",
       "      <td>8</td>\n",
       "    </tr>\n",
       "  </tbody>\n",
       "</table>\n",
       "</div>"
      ],
      "text/plain": [
       "                               Coaster_Name\n",
       "Manufacturer                               \n",
       "Bolliger & Mabillard                     49\n",
       "Vekoma                                   39\n",
       "Intamin                                  28\n",
       "Arrow Dynamics                           23\n",
       "Mack Rides                               19\n",
       "Gerstlauer                               17\n",
       "Rocky Mountain Construction              10\n",
       "Anton Schwarzkopf                         8\n",
       "Custom Coasters International             8\n",
       "Premier Rides                             8"
      ]
     },
     "execution_count": 13,
     "metadata": {},
     "output_type": "execute_result"
    }
   ],
   "source": [
    "manufacturer = cst_2.pivot_table(index='Manufacturer', values='Coaster_Name', aggfunc='count')\n",
    "n = 10\n",
    "top10_manufacturer = manufacturer.nlargest(n, 'Coaster_Name')\n",
    "\n",
    "top10_manufacturer"
   ]
  },
  {
   "attachments": {},
   "cell_type": "markdown",
   "metadata": {},
   "source": [
    "What is the average speed? Also display a plot to show it's distribution."
   ]
  },
  {
   "cell_type": "code",
   "execution_count": 14,
   "metadata": {},
   "outputs": [
    {
     "name": "stdout",
     "output_type": "stream",
     "text": [
      "The average speed of roller coasters is 54.31 mph\n"
     ]
    }
   ],
   "source": [
    "avg_speed = cst_2['Speed_mph'].mean().round(2)\n",
    "print(f'The average speed of roller coasters is {avg_speed} mph')"
   ]
  },
  {
   "cell_type": "code",
   "execution_count": 15,
   "metadata": {},
   "outputs": [
    {
     "data": {
      "text/plain": [
       "Text(0.5, 1.0, 'Distribution of Speed')"
      ]
     },
     "execution_count": 15,
     "metadata": {},
     "output_type": "execute_result"
    },
    {
     "data": {
      "image/png": "[encoded data removed]",
      "text/plain": [
       "<Figure size 720x576 with 1 Axes>"
      ]
     },
     "metadata": {
      "needs_background": "light"
     },
     "output_type": "display_data"
    }
   ],
   "source": [
    "fig = plt.figure(figsize=(10,8))\n",
    "plt.hist(data=cst_2, x='Speed_mph', color='green')\n",
    "plt.xlabel('Speed Mph', weight='bold')\n",
    "plt.ylabel('Count', weight='bold')\n",
    "plt.title('Distribution of Speed', weight='bold')"
   ]
  },
  {
   "attachments": {},
   "cell_type": "markdown",
   "metadata": {},
   "source": [
    "Explore the feature relationships. Are there any positively or negatively correlated relationships"
   ]
  },
  {
   "cell_type": "code",
   "execution_count": 16,
   "metadata": {},
   "outputs": [
    {
     "data": {
      "text/plain": [
       "Text(0.5, 1.1, 'Correlation coefficient = 0.55')"
      ]
     },
     "execution_count": 16,
     "metadata": {},
     "output_type": "execute_result"
    },
    {
     "data": {
      "image/png": "[encoded data removed]",
      "text/plain": [
       "<Figure size 720x576 with 1 Axes>"
      ]
     },
     "metadata": {
      "needs_background": "light"
     },
     "output_type": "display_data"
    }
   ],
   "source": [
    "x = cst_2['Speed_mph']\n",
    "y = cst_2['Geforce']\n",
    "\n",
    "fig = plt.figure(figsize=(10,8))\n",
    "plt.scatter(x, y, color='green')\n",
    "z = np.polyfit(x, y, 1)\n",
    "p = np.poly1d(z)\n",
    "plt.plot(x, p(x), 'r--')\n",
    "corr_coef = np.corrcoef(x, y)[1, 0]\n",
    "\n",
    "plt.xlabel('Speed Mph', weight='bold')\n",
    "plt.ylabel('Geforce', weight='bold')\n",
    "plt.title('Relationship between Speed and Geforce', weight='bold')\n",
    "plt.text(0.5, 1.1, f\"Correlation coefficient = {corr_coef:.2f}\", ha='center', va='center', weight='bold', transform=plt.gca().transAxes)"
   ]
  },
  {
   "cell_type": "code",
   "execution_count": 17,
   "metadata": {},
   "outputs": [
    {
     "name": "stderr",
     "output_type": "stream",
     "text": [
      "c:\\Python\\lib\\site-packages\\seaborn\\_decorators.py:36: FutureWarning: Pass the following variables as keyword args: x, y. From version 0.12, the only valid positional argument will be `data`, and passing other arguments without an explicit keyword will result in an error or misinterpretation.\n",
      "  warnings.warn(\n"
     ]
    },
    {
     "data": {
      "text/plain": [
       "Text(0.5, 1.1, 'Correlation coefficient = 0.37')"
      ]
     },
     "execution_count": 17,
     "metadata": {},
     "output_type": "execute_result"
    },
    {
     "data": {
      "image/png": "[encoded data removed]",
      "text/plain": [
       "<Figure size 720x576 with 1 Axes>"
      ]
     },
     "metadata": {
      "needs_background": "light"
     },
     "output_type": "display_data"
    }
   ],
   "source": [
    "x = cst_2['Inversions']\n",
    "y = cst_2['Geforce']\n",
    "\n",
    "fig = plt.figure(figsize=(10,8))\n",
    "sns.scatterplot(x, y, color='green')\n",
    "z = np.polyfit(x, y, 1)\n",
    "p = np.poly1d(z)\n",
    "plt.plot(x, p(x), 'r--')\n",
    "corr_coef = np.corrcoef(x, y)[1, 0]\n",
    "\n",
    "plt.xlabel('Inversions', weight='bold')\n",
    "plt.ylabel('Geforce', weight='bold')\n",
    "plt.title('Relationship between Inversions and Geforce', weight='bold')\n",
    "plt.text(0.5, 1.1, f\"Correlation coefficient = {corr_coef:.2f}\", ha='center', va='center', weight='bold', transform=plt.gca().transAxes)"
   ]
  },
  {
   "cell_type": "code",
   "execution_count": 18,
   "metadata": {},
   "outputs": [
    {
     "name": "stdout",
     "output_type": "stream",
     "text": [
      "<class 'pandas.core.series.Series'>\n",
      "Int64Index: 282 entries, 0 to 1084\n",
      "Series name: Height_ft\n",
      "Non-Null Count  Dtype  \n",
      "--------------  -----  \n",
      "207 non-null    float64\n",
      "dtypes: float64(1)\n",
      "memory usage: 4.4 KB\n"
     ]
    }
   ],
   "source": [
    "try:\n",
    "    cst_2['Height_ft'] = cst_2['Height_ft'].astype('float64')\n",
    "except:\n",
    "    cst_2['Height_ft'] = pd.to_numeric(cst_2['Height_ft'], errors='coerce')\n",
    "\n",
    "cst_2['Height_ft'].info()"
   ]
  },
  {
   "cell_type": "code",
   "execution_count": 19,
   "metadata": {},
   "outputs": [
    {
     "name": "stderr",
     "output_type": "stream",
     "text": [
      "c:\\Python\\lib\\site-packages\\seaborn\\_decorators.py:36: FutureWarning: Pass the following variables as keyword args: x, y, hue. From version 0.12, the only valid positional argument will be `data`, and passing other arguments without an explicit keyword will result in an error or misinterpretation.\n",
      "  warnings.warn(\n"
     ]
    },
    {
     "data": {
      "text/plain": [
       "Text(0.5, 1.0, 'Relationship between Speed, Height and Geforce')"
      ]
     },
     "execution_count": 19,
     "metadata": {},
     "output_type": "execute_result"
    },
    {
     "data": {
      "image/png": "[encoded data removed]",
      "text/plain": [
       "<Figure size 720x576 with 1 Axes>"
      ]
     },
     "metadata": {
      "needs_background": "light"
     },
     "output_type": "display_data"
    }
   ],
   "source": [
    "x = cst_2['Speed_mph']\n",
    "y = cst_2['Height_ft']\n",
    "z = cst_2['Geforce']\n",
    "\n",
    "fig = plt.figure(figsize=(10,8))\n",
    "sns.scatterplot(x, y, z, size=z, sizes=(20, 300))\n",
    "\n",
    "plt.xlabel('Speed (mph)', weight='bold')\n",
    "plt.ylabel('Height (ft)', weight='bold')\n",
    "plt.title('Relationship between Speed, Height and Geforce', weight='bold')"
   ]
  }
 ],
 "metadata": {
  "kernelspec": {
   "display_name": "Python 3",
   "language": "python",
   "name": "python3"
  },
  "language_info": {
   "codemirror_mode": {
    "name": "ipython",
    "version": 3
   },
   "file_extension": ".py",
   "mimetype": "text/x-python",
   "name": "python",
   "nbconvert_exporter": "python",
   "pygments_lexer": "ipython3",
   "version": "3.9.6"
  },
  "orig_nbformat": 4
 },
 "nbformat": 4,
 "nbformat_minor": 2
}
