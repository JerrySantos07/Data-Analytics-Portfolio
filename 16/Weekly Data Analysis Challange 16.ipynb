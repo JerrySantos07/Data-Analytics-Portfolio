{
 "cells": [
  {
   "attachments": {},
   "cell_type": "markdown",
   "metadata": {},
   "source": [
    "SETTING UP THE MODULES(PANDAS, NUMPY) AND IMPORTING THE DATASET"
   ]
  },
  {
   "cell_type": "code",
   "execution_count": 1,
   "metadata": {},
   "outputs": [],
   "source": [
    "import pandas as pd\n",
    "import numpy as np"
   ]
  },
  {
   "cell_type": "code",
   "execution_count": 2,
   "metadata": {},
   "outputs": [],
   "source": [
    "cvd = pd.read_csv(\"covid_worldwide.csv\")"
   ]
  },
  {
   "cell_type": "code",
   "execution_count": 3,
   "metadata": {},
   "outputs": [
    {
     "data": {
      "text/html": [
       "<div>\n",
       "<style scoped>\n",
       "    .dataframe tbody tr th:only-of-type {\n",
       "        vertical-align: middle;\n",
       "    }\n",
       "\n",
       "    .dataframe tbody tr th {\n",
       "        vertical-align: top;\n",
       "    }\n",
       "\n",
       "    .dataframe thead th {\n",
       "        text-align: right;\n",
       "    }\n",
       "</style>\n",
       "<table border=\"1\" class=\"dataframe\">\n",
       "  <thead>\n",
       "    <tr style=\"text-align: right;\">\n",
       "      <th></th>\n",
       "      <th>Serial Number</th>\n",
       "      <th>Country</th>\n",
       "      <th>Total Cases</th>\n",
       "      <th>Total Deaths</th>\n",
       "      <th>Total Recovered</th>\n",
       "      <th>Active Cases</th>\n",
       "      <th>Total Test</th>\n",
       "      <th>Population</th>\n",
       "    </tr>\n",
       "  </thead>\n",
       "  <tbody>\n",
       "    <tr>\n",
       "      <th>0</th>\n",
       "      <td>1</td>\n",
       "      <td>USA</td>\n",
       "      <td>104,196,861</td>\n",
       "      <td>1,132,935</td>\n",
       "      <td>101,322,779</td>\n",
       "      <td>1,741,147</td>\n",
       "      <td>1,159,832,679</td>\n",
       "      <td>334,805,269</td>\n",
       "    </tr>\n",
       "    <tr>\n",
       "      <th>1</th>\n",
       "      <td>2</td>\n",
       "      <td>India</td>\n",
       "      <td>44,682,784</td>\n",
       "      <td>530,740</td>\n",
       "      <td>44,150,289</td>\n",
       "      <td>1,755</td>\n",
       "      <td>915,265,788</td>\n",
       "      <td>1,406,631,776</td>\n",
       "    </tr>\n",
       "    <tr>\n",
       "      <th>2</th>\n",
       "      <td>3</td>\n",
       "      <td>France</td>\n",
       "      <td>39,524,311</td>\n",
       "      <td>164,233</td>\n",
       "      <td>39,264,546</td>\n",
       "      <td>95,532</td>\n",
       "      <td>271,490,188</td>\n",
       "      <td>65,584,518</td>\n",
       "    </tr>\n",
       "    <tr>\n",
       "      <th>3</th>\n",
       "      <td>4</td>\n",
       "      <td>Germany</td>\n",
       "      <td>37,779,833</td>\n",
       "      <td>165,711</td>\n",
       "      <td>37,398,100</td>\n",
       "      <td>216,022</td>\n",
       "      <td>122,332,384</td>\n",
       "      <td>83,883,596</td>\n",
       "    </tr>\n",
       "    <tr>\n",
       "      <th>4</th>\n",
       "      <td>5</td>\n",
       "      <td>Brazil</td>\n",
       "      <td>36,824,580</td>\n",
       "      <td>697,074</td>\n",
       "      <td>35,919,372</td>\n",
       "      <td>208,134</td>\n",
       "      <td>63,776,166</td>\n",
       "      <td>215,353,593</td>\n",
       "    </tr>\n",
       "  </tbody>\n",
       "</table>\n",
       "</div>"
      ],
      "text/plain": [
       "   Serial Number  Country  Total Cases Total Deaths Total Recovered  \\\n",
       "0              1      USA  104,196,861    1,132,935     101,322,779   \n",
       "1              2    India   44,682,784      530,740      44,150,289   \n",
       "2              3   France   39,524,311      164,233      39,264,546   \n",
       "3              4  Germany   37,779,833      165,711      37,398,100   \n",
       "4              5   Brazil   36,824,580      697,074      35,919,372   \n",
       "\n",
       "  Active Cases     Total Test     Population  \n",
       "0    1,741,147  1,159,832,679    334,805,269  \n",
       "1        1,755    915,265,788  1,406,631,776  \n",
       "2       95,532    271,490,188     65,584,518  \n",
       "3      216,022    122,332,384     83,883,596  \n",
       "4      208,134     63,776,166    215,353,593  "
      ]
     },
     "execution_count": 3,
     "metadata": {},
     "output_type": "execute_result"
    }
   ],
   "source": [
    "cvd.head()"
   ]
  },
  {
   "cell_type": "markdown",
   "metadata": {},
   "source": [
    "DATA CLEANING AND TRANSFORMATION"
   ]
  },
  {
   "cell_type": "markdown",
   "metadata": {},
   "source": [
    "1. Missing data"
   ]
  },
  {
   "cell_type": "code",
   "execution_count": 4,
   "metadata": {},
   "outputs": [
    {
     "data": {
      "text/plain": [
       "Serial Number       0\n",
       "Country             0\n",
       "Total Cases         0\n",
       "Total Deaths        6\n",
       "Total Recovered    21\n",
       "Active Cases       19\n",
       "Total Test         18\n",
       "Population          3\n",
       "dtype: int64"
      ]
     },
     "execution_count": 4,
     "metadata": {},
     "output_type": "execute_result"
    }
   ],
   "source": [
    "cvd.isnull().sum()"
   ]
  },
  {
   "cell_type": "code",
   "execution_count": 5,
   "metadata": {},
   "outputs": [],
   "source": [
    "cvd[['Total Deaths', 'Total Recovered', 'Active Cases', 'Total Test']] = cvd[['Total Deaths', 'Total Recovered', 'Active Cases', 'Total Test']].fillna(0)"
   ]
  },
  {
   "cell_type": "code",
   "execution_count": 6,
   "metadata": {},
   "outputs": [
    {
     "data": {
      "text/plain": [
       "Serial Number      0\n",
       "Country            0\n",
       "Total Cases        0\n",
       "Total Deaths       0\n",
       "Total Recovered    0\n",
       "Active Cases       0\n",
       "Total Test         0\n",
       "Population         3\n",
       "dtype: int64"
      ]
     },
     "execution_count": 6,
     "metadata": {},
     "output_type": "execute_result"
    }
   ],
   "source": [
    "cvd.isnull().sum()"
   ]
  },
  {
   "cell_type": "code",
   "execution_count": 7,
   "metadata": {},
   "outputs": [],
   "source": [
    "cvd = cvd.dropna(subset=['Population'])"
   ]
  },
  {
   "cell_type": "code",
   "execution_count": 8,
   "metadata": {},
   "outputs": [
    {
     "data": {
      "text/plain": [
       "Serial Number      0\n",
       "Country            0\n",
       "Total Cases        0\n",
       "Total Deaths       0\n",
       "Total Recovered    0\n",
       "Active Cases       0\n",
       "Total Test         0\n",
       "Population         0\n",
       "dtype: int64"
      ]
     },
     "execution_count": 8,
     "metadata": {},
     "output_type": "execute_result"
    }
   ],
   "source": [
    "cvd.isnull().sum()"
   ]
  },
  {
   "cell_type": "code",
   "execution_count": 9,
   "metadata": {},
   "outputs": [
    {
     "data": {
      "text/html": [
       "<div>\n",
       "<style scoped>\n",
       "    .dataframe tbody tr th:only-of-type {\n",
       "        vertical-align: middle;\n",
       "    }\n",
       "\n",
       "    .dataframe tbody tr th {\n",
       "        vertical-align: top;\n",
       "    }\n",
       "\n",
       "    .dataframe thead th {\n",
       "        text-align: right;\n",
       "    }\n",
       "</style>\n",
       "<table border=\"1\" class=\"dataframe\">\n",
       "  <thead>\n",
       "    <tr style=\"text-align: right;\">\n",
       "      <th></th>\n",
       "      <th>Serial Number</th>\n",
       "      <th>Country</th>\n",
       "      <th>Total Cases</th>\n",
       "      <th>Total Deaths</th>\n",
       "      <th>Total Recovered</th>\n",
       "      <th>Active Cases</th>\n",
       "      <th>Total Test</th>\n",
       "      <th>Population</th>\n",
       "    </tr>\n",
       "  </thead>\n",
       "  <tbody>\n",
       "    <tr>\n",
       "      <th>224</th>\n",
       "      <td>225</td>\n",
       "      <td>Montserrat</td>\n",
       "      <td>1,403</td>\n",
       "      <td>8</td>\n",
       "      <td>1,376</td>\n",
       "      <td>19</td>\n",
       "      <td>17,762</td>\n",
       "      <td>4,965</td>\n",
       "    </tr>\n",
       "    <tr>\n",
       "      <th>225</th>\n",
       "      <td>226</td>\n",
       "      <td>Niue</td>\n",
       "      <td>747</td>\n",
       "      <td>0</td>\n",
       "      <td>746</td>\n",
       "      <td>1</td>\n",
       "      <td>0</td>\n",
       "      <td>1,622</td>\n",
       "    </tr>\n",
       "    <tr>\n",
       "      <th>227</th>\n",
       "      <td>228</td>\n",
       "      <td>Vatican City</td>\n",
       "      <td>29</td>\n",
       "      <td>0</td>\n",
       "      <td>29</td>\n",
       "      <td>0</td>\n",
       "      <td>0</td>\n",
       "      <td>799</td>\n",
       "    </tr>\n",
       "    <tr>\n",
       "      <th>228</th>\n",
       "      <td>229</td>\n",
       "      <td>Western Sahara</td>\n",
       "      <td>10</td>\n",
       "      <td>1</td>\n",
       "      <td>9</td>\n",
       "      <td>0</td>\n",
       "      <td>0</td>\n",
       "      <td>626,161</td>\n",
       "    </tr>\n",
       "    <tr>\n",
       "      <th>230</th>\n",
       "      <td>231</td>\n",
       "      <td>Tokelau</td>\n",
       "      <td>5</td>\n",
       "      <td>0</td>\n",
       "      <td>0</td>\n",
       "      <td>5</td>\n",
       "      <td>0</td>\n",
       "      <td>1,378</td>\n",
       "    </tr>\n",
       "  </tbody>\n",
       "</table>\n",
       "</div>"
      ],
      "text/plain": [
       "     Serial Number         Country Total Cases Total Deaths Total Recovered  \\\n",
       "224            225      Montserrat       1,403            8           1,376   \n",
       "225            226            Niue         747            0             746   \n",
       "227            228    Vatican City          29            0              29   \n",
       "228            229  Western Sahara          10            1               9   \n",
       "230            231         Tokelau           5            0               0   \n",
       "\n",
       "    Active Cases Total Test Population  \n",
       "224           19     17,762      4,965  \n",
       "225            1          0      1,622  \n",
       "227            0          0        799  \n",
       "228            0          0    626,161  \n",
       "230            5          0      1,378  "
      ]
     },
     "execution_count": 9,
     "metadata": {},
     "output_type": "execute_result"
    }
   ],
   "source": [
    "cvd.tail()"
   ]
  },
  {
   "cell_type": "markdown",
   "metadata": {},
   "source": [
    "2. Data types"
   ]
  },
  {
   "cell_type": "code",
   "execution_count": 10,
   "metadata": {},
   "outputs": [
    {
     "data": {
      "text/plain": [
       "Serial Number       int64\n",
       "Country            object\n",
       "Total Cases        object\n",
       "Total Deaths       object\n",
       "Total Recovered    object\n",
       "Active Cases       object\n",
       "Total Test         object\n",
       "Population         object\n",
       "dtype: object"
      ]
     },
     "execution_count": 10,
     "metadata": {},
     "output_type": "execute_result"
    }
   ],
   "source": [
    "cvd.dtypes"
   ]
  },
  {
   "cell_type": "code",
   "execution_count": 11,
   "metadata": {},
   "outputs": [],
   "source": [
    "# First, I convert the fields from string(object) to decimals(float64) so that I can remove the commas from the strings. \n",
    "\n",
    "convert = ['Total Cases', 'Total Deaths', 'Total Recovered', 'Active Cases', 'Total Test', 'Population']\n",
    "cvd[convert] = cvd[convert].apply(lambda x: x.str.replace(',', '').astype(float))"
   ]
  },
  {
   "cell_type": "code",
   "execution_count": 12,
   "metadata": {},
   "outputs": [
    {
     "data": {
      "text/plain": [
       "Serial Number        int64\n",
       "Country             object\n",
       "Total Cases        float64\n",
       "Total Deaths       float64\n",
       "Total Recovered    float64\n",
       "Active Cases       float64\n",
       "Total Test         float64\n",
       "Population         float64\n",
       "dtype: object"
      ]
     },
     "execution_count": 12,
     "metadata": {},
     "output_type": "execute_result"
    }
   ],
   "source": [
    "cvd.dtypes"
   ]
  },
  {
   "cell_type": "code",
   "execution_count": 13,
   "metadata": {},
   "outputs": [],
   "source": [
    "# Then in order for me to convert the fields from decimals(float64) to whole numbers(int), I need to replace the non-finite values('NaN' or 'inf') with zero.\n",
    "\n",
    "replace = ['Total Cases', 'Total Deaths', 'Total Recovered', 'Active Cases', 'Total Test', 'Population']\n",
    "cvd[replace] = cvd[replace].apply(lambda x: x.fillna(0).replace([np.inf, -np.inf], 0).astype(int))"
   ]
  },
  {
   "cell_type": "code",
   "execution_count": 14,
   "metadata": {},
   "outputs": [
    {
     "data": {
      "text/plain": [
       "Serial Number       int64\n",
       "Country            object\n",
       "Total Cases         int32\n",
       "Total Deaths        int32\n",
       "Total Recovered     int32\n",
       "Active Cases        int32\n",
       "Total Test          int32\n",
       "Population          int32\n",
       "dtype: object"
      ]
     },
     "execution_count": 14,
     "metadata": {},
     "output_type": "execute_result"
    }
   ],
   "source": [
    "cvd.dtypes"
   ]
  },
  {
   "cell_type": "code",
   "execution_count": 15,
   "metadata": {},
   "outputs": [
    {
     "name": "stderr",
     "output_type": "stream",
     "text": [
      "C:\\Users\\USER\\AppData\\Local\\Temp\\ipykernel_9232\\666807371.py:27: FutureWarning: The frame.append method is deprecated and will be removed from pandas in a future version. Use pandas.concat instead.\n",
      "  cvd = cvd.append(new_row, ignore_index=True)\n"
     ]
    }
   ],
   "source": [
    "cvd = cvd.replace('USA', 'United States of America')\n",
    "cvd = cvd.replace('Western Sahara', 'W. Sahara')\n",
    "cvd = cvd.replace('Dominican Republic', 'Dominican Rep.')\n",
    "cvd = cvd.replace('DRC', 'Dem. Rep. Congo')\n",
    "cvd = cvd.replace('Falkland Islands', 'Falkland Is.')\n",
    "cvd = cvd.replace('Equatorial Guinea', 'Eq. Guinea')\n",
    "cvd = cvd.replace('CAR', 'Central African Rep.')\n",
    "cvd = cvd.replace(\"Ivory Coast\", \"Côte d'Ivoire\")\n",
    "cvd = cvd.replace('Eswatini', 'eSwatini')\n",
    "cvd = cvd.replace('DPRK', 'North Korea')\n",
    "cvd = cvd.replace('S. Korea', 'South Korea')\n",
    "cvd = cvd.replace('UAE', 'United Arab Emirates')\n",
    "cvd = cvd.replace('UK', 'United Kingdom')\n",
    "cvd = cvd.replace('South Sudan', 'S. Sudan')\n",
    "cvd = cvd.replace('Bosnia and Herzegovina', 'Bosnia and Herz.')\n",
    "cvd = cvd.replace('Solomon Islands', 'Solomon Is')\n",
    "\n",
    "new_row = {'Serial Number': '91', \n",
    "           'Country': 'China', \n",
    "           'Total Cases': 503302, \n",
    "           'Total Deaths': 5272, \n",
    "           'Total Recovered': 379053,\n",
    "           'Active Cases': 118977,\n",
    "           'Total Test': 160000000,\n",
    "           'Population': 1425893465\n",
    "           }\n",
    "cvd = cvd.append(new_row, ignore_index=True)"
   ]
  },
  {
   "cell_type": "code",
   "execution_count": 16,
   "metadata": {},
   "outputs": [
    {
     "data": {
      "text/html": [
       "<div>\n",
       "<style scoped>\n",
       "    .dataframe tbody tr th:only-of-type {\n",
       "        vertical-align: middle;\n",
       "    }\n",
       "\n",
       "    .dataframe tbody tr th {\n",
       "        vertical-align: top;\n",
       "    }\n",
       "\n",
       "    .dataframe thead th {\n",
       "        text-align: right;\n",
       "    }\n",
       "</style>\n",
       "<table border=\"1\" class=\"dataframe\">\n",
       "  <thead>\n",
       "    <tr style=\"text-align: right;\">\n",
       "      <th></th>\n",
       "      <th>Serial Number</th>\n",
       "      <th>Country</th>\n",
       "      <th>Total Cases</th>\n",
       "      <th>Total Deaths</th>\n",
       "      <th>Total Recovered</th>\n",
       "      <th>Active Cases</th>\n",
       "      <th>Total Test</th>\n",
       "      <th>Population</th>\n",
       "    </tr>\n",
       "  </thead>\n",
       "  <tbody>\n",
       "    <tr>\n",
       "      <th>228</th>\n",
       "      <td>91</td>\n",
       "      <td>China</td>\n",
       "      <td>503302</td>\n",
       "      <td>5272</td>\n",
       "      <td>379053</td>\n",
       "      <td>118977</td>\n",
       "      <td>160000000</td>\n",
       "      <td>1425893465</td>\n",
       "    </tr>\n",
       "    <tr>\n",
       "      <th>1</th>\n",
       "      <td>2</td>\n",
       "      <td>India</td>\n",
       "      <td>44682784</td>\n",
       "      <td>530740</td>\n",
       "      <td>44150289</td>\n",
       "      <td>1755</td>\n",
       "      <td>915265788</td>\n",
       "      <td>1406631776</td>\n",
       "    </tr>\n",
       "    <tr>\n",
       "      <th>0</th>\n",
       "      <td>1</td>\n",
       "      <td>United States of America</td>\n",
       "      <td>104196861</td>\n",
       "      <td>1132935</td>\n",
       "      <td>101322779</td>\n",
       "      <td>1741147</td>\n",
       "      <td>1159832679</td>\n",
       "      <td>334805269</td>\n",
       "    </tr>\n",
       "    <tr>\n",
       "      <th>19</th>\n",
       "      <td>20</td>\n",
       "      <td>Indonesia</td>\n",
       "      <td>6730289</td>\n",
       "      <td>160817</td>\n",
       "      <td>6565208</td>\n",
       "      <td>4264</td>\n",
       "      <td>114158919</td>\n",
       "      <td>279134505</td>\n",
       "    </tr>\n",
       "    <tr>\n",
       "      <th>52</th>\n",
       "      <td>53</td>\n",
       "      <td>Pakistan</td>\n",
       "      <td>1576313</td>\n",
       "      <td>30640</td>\n",
       "      <td>1538689</td>\n",
       "      <td>6984</td>\n",
       "      <td>30570862</td>\n",
       "      <td>229488994</td>\n",
       "    </tr>\n",
       "  </tbody>\n",
       "</table>\n",
       "</div>"
      ],
      "text/plain": [
       "    Serial Number                   Country  Total Cases  Total Deaths  \\\n",
       "228            91                     China       503302          5272   \n",
       "1               2                     India     44682784        530740   \n",
       "0               1  United States of America    104196861       1132935   \n",
       "19             20                 Indonesia      6730289        160817   \n",
       "52             53                  Pakistan      1576313         30640   \n",
       "\n",
       "     Total Recovered  Active Cases  Total Test  Population  \n",
       "228           379053        118977   160000000  1425893465  \n",
       "1           44150289          1755   915265788  1406631776  \n",
       "0          101322779       1741147  1159832679   334805269  \n",
       "19           6565208          4264   114158919   279134505  \n",
       "52           1538689          6984    30570862   229488994  "
      ]
     },
     "execution_count": 16,
     "metadata": {},
     "output_type": "execute_result"
    }
   ],
   "source": [
    "cvd_sorted = cvd.sort_values(by='Population', ascending=False)\n",
    "cvd_sorted.head()"
   ]
  },
  {
   "cell_type": "markdown",
   "metadata": {},
   "source": [
    "DATA VISUALIZATION"
   ]
  },
  {
   "attachments": {},
   "cell_type": "markdown",
   "metadata": {},
   "source": [
    "1. Setting up the module(matplotlib, geopandas)"
   ]
  },
  {
   "cell_type": "code",
   "execution_count": 17,
   "metadata": {},
   "outputs": [],
   "source": [
    "import geopandas as gpd\n",
    "import matplotlib.pyplot as plt"
   ]
  },
  {
   "attachments": {},
   "cell_type": "markdown",
   "metadata": {},
   "source": [
    "2. Merginng geopandas dataset with current dataset and clean the new merged datasets"
   ]
  },
  {
   "cell_type": "code",
   "execution_count": 18,
   "metadata": {},
   "outputs": [
    {
     "data": {
      "text/html": [
       "<div>\n",
       "<style scoped>\n",
       "    .dataframe tbody tr th:only-of-type {\n",
       "        vertical-align: middle;\n",
       "    }\n",
       "\n",
       "    .dataframe tbody tr th {\n",
       "        vertical-align: top;\n",
       "    }\n",
       "\n",
       "    .dataframe thead th {\n",
       "        text-align: right;\n",
       "    }\n",
       "</style>\n",
       "<table border=\"1\" class=\"dataframe\">\n",
       "  <thead>\n",
       "    <tr style=\"text-align: right;\">\n",
       "      <th></th>\n",
       "      <th>pop_est</th>\n",
       "      <th>continent</th>\n",
       "      <th>name</th>\n",
       "      <th>iso_a3</th>\n",
       "      <th>gdp_md_est</th>\n",
       "      <th>geometry</th>\n",
       "      <th>Serial Number</th>\n",
       "      <th>Country</th>\n",
       "      <th>Total Cases</th>\n",
       "      <th>Total Deaths</th>\n",
       "      <th>Total Recovered</th>\n",
       "      <th>Active Cases</th>\n",
       "      <th>Total Test</th>\n",
       "      <th>Population</th>\n",
       "    </tr>\n",
       "  </thead>\n",
       "  <tbody>\n",
       "    <tr>\n",
       "      <th>0</th>\n",
       "      <td>889953.0</td>\n",
       "      <td>Oceania</td>\n",
       "      <td>Fiji</td>\n",
       "      <td>FJI</td>\n",
       "      <td>5496</td>\n",
       "      <td>MULTIPOLYGON (((180.00000 -16.06713, 180.00000...</td>\n",
       "      <td>143</td>\n",
       "      <td>Fiji</td>\n",
       "      <td>68820.0</td>\n",
       "      <td>883.0</td>\n",
       "      <td>66780.0</td>\n",
       "      <td>1157.0</td>\n",
       "      <td>6.677150e+05</td>\n",
       "      <td>909466.0</td>\n",
       "    </tr>\n",
       "    <tr>\n",
       "      <th>1</th>\n",
       "      <td>58005463.0</td>\n",
       "      <td>Africa</td>\n",
       "      <td>Tanzania</td>\n",
       "      <td>TZA</td>\n",
       "      <td>63177</td>\n",
       "      <td>POLYGON ((33.90371 -0.95000, 34.07262 -1.05982...</td>\n",
       "      <td>157</td>\n",
       "      <td>Tanzania</td>\n",
       "      <td>42664.0</td>\n",
       "      <td>846.0</td>\n",
       "      <td>0.0</td>\n",
       "      <td>0.0</td>\n",
       "      <td>0.000000e+00</td>\n",
       "      <td>63298550.0</td>\n",
       "    </tr>\n",
       "    <tr>\n",
       "      <th>2</th>\n",
       "      <td>603253.0</td>\n",
       "      <td>Africa</td>\n",
       "      <td>W. Sahara</td>\n",
       "      <td>ESH</td>\n",
       "      <td>907</td>\n",
       "      <td>POLYGON ((-8.66559 27.65643, -8.66512 27.58948...</td>\n",
       "      <td>229</td>\n",
       "      <td>W. Sahara</td>\n",
       "      <td>10.0</td>\n",
       "      <td>1.0</td>\n",
       "      <td>9.0</td>\n",
       "      <td>0.0</td>\n",
       "      <td>0.000000e+00</td>\n",
       "      <td>626161.0</td>\n",
       "    </tr>\n",
       "    <tr>\n",
       "      <th>3</th>\n",
       "      <td>37589262.0</td>\n",
       "      <td>North America</td>\n",
       "      <td>Canada</td>\n",
       "      <td>CAN</td>\n",
       "      <td>1736425</td>\n",
       "      <td>MULTIPOLYGON (((-122.84000 49.00000, -122.9742...</td>\n",
       "      <td>34</td>\n",
       "      <td>Canada</td>\n",
       "      <td>4550256.0</td>\n",
       "      <td>50380.0</td>\n",
       "      <td>4444013.0</td>\n",
       "      <td>55863.0</td>\n",
       "      <td>6.634312e+07</td>\n",
       "      <td>38388419.0</td>\n",
       "    </tr>\n",
       "    <tr>\n",
       "      <th>4</th>\n",
       "      <td>328239523.0</td>\n",
       "      <td>North America</td>\n",
       "      <td>United States of America</td>\n",
       "      <td>USA</td>\n",
       "      <td>21433226</td>\n",
       "      <td>MULTIPOLYGON (((-122.84000 49.00000, -120.0000...</td>\n",
       "      <td>1</td>\n",
       "      <td>United States of America</td>\n",
       "      <td>104196861.0</td>\n",
       "      <td>1132935.0</td>\n",
       "      <td>101322779.0</td>\n",
       "      <td>1741147.0</td>\n",
       "      <td>1.159833e+09</td>\n",
       "      <td>334805269.0</td>\n",
       "    </tr>\n",
       "  </tbody>\n",
       "</table>\n",
       "</div>"
      ],
      "text/plain": [
       "       pop_est      continent                      name iso_a3  gdp_md_est  \\\n",
       "0     889953.0        Oceania                      Fiji    FJI        5496   \n",
       "1   58005463.0         Africa                  Tanzania    TZA       63177   \n",
       "2     603253.0         Africa                 W. Sahara    ESH         907   \n",
       "3   37589262.0  North America                    Canada    CAN     1736425   \n",
       "4  328239523.0  North America  United States of America    USA    21433226   \n",
       "\n",
       "                                            geometry Serial Number  \\\n",
       "0  MULTIPOLYGON (((180.00000 -16.06713, 180.00000...           143   \n",
       "1  POLYGON ((33.90371 -0.95000, 34.07262 -1.05982...           157   \n",
       "2  POLYGON ((-8.66559 27.65643, -8.66512 27.58948...           229   \n",
       "3  MULTIPOLYGON (((-122.84000 49.00000, -122.9742...            34   \n",
       "4  MULTIPOLYGON (((-122.84000 49.00000, -120.0000...             1   \n",
       "\n",
       "                    Country  Total Cases  Total Deaths  Total Recovered  \\\n",
       "0                      Fiji      68820.0         883.0          66780.0   \n",
       "1                  Tanzania      42664.0         846.0              0.0   \n",
       "2                 W. Sahara         10.0           1.0              9.0   \n",
       "3                    Canada    4550256.0       50380.0        4444013.0   \n",
       "4  United States of America  104196861.0     1132935.0      101322779.0   \n",
       "\n",
       "   Active Cases    Total Test   Population  \n",
       "0        1157.0  6.677150e+05     909466.0  \n",
       "1           0.0  0.000000e+00   63298550.0  \n",
       "2           0.0  0.000000e+00     626161.0  \n",
       "3       55863.0  6.634312e+07   38388419.0  \n",
       "4     1741147.0  1.159833e+09  334805269.0  "
      ]
     },
     "execution_count": 18,
     "metadata": {},
     "output_type": "execute_result"
    }
   ],
   "source": [
    "world = gpd.read_file(gpd.datasets.get_path('naturalearth_lowres'))\n",
    "merged = world.merge(cvd, how='left', left_on='name', right_on='Country')\n",
    "merged.head()"
   ]
  },
  {
   "cell_type": "code",
   "execution_count": 19,
   "metadata": {},
   "outputs": [
    {
     "data": {
      "text/plain": [
       "pop_est            0\n",
       "continent          0\n",
       "name               0\n",
       "iso_a3             0\n",
       "gdp_md_est         0\n",
       "geometry           0\n",
       "Serial Number      8\n",
       "Country            8\n",
       "Total Cases        8\n",
       "Total Deaths       8\n",
       "Total Recovered    8\n",
       "Active Cases       8\n",
       "Total Test         8\n",
       "Population         8\n",
       "dtype: int64"
      ]
     },
     "execution_count": 19,
     "metadata": {},
     "output_type": "execute_result"
    }
   ],
   "source": [
    "merged.isnull().sum()"
   ]
  },
  {
   "cell_type": "code",
   "execution_count": 20,
   "metadata": {},
   "outputs": [
    {
     "data": {
      "text/plain": [
       "pop_est            0\n",
       "continent          0\n",
       "name               0\n",
       "iso_a3             0\n",
       "gdp_md_est         0\n",
       "geometry           0\n",
       "Serial Number      0\n",
       "Country            0\n",
       "Total Cases        0\n",
       "Total Deaths       0\n",
       "Total Recovered    0\n",
       "Active Cases       0\n",
       "Total Test         0\n",
       "Population         0\n",
       "dtype: int64"
      ]
     },
     "execution_count": 20,
     "metadata": {},
     "output_type": "execute_result"
    }
   ],
   "source": [
    "merged = merged.dropna(subset=['Population'])\n",
    "merged.isnull().sum()"
   ]
  },
  {
   "attachments": {},
   "cell_type": "markdown",
   "metadata": {},
   "source": [
    "3. Number of Countries with the Covid-19"
   ]
  },
  {
   "cell_type": "code",
   "execution_count": 21,
   "metadata": {},
   "outputs": [
    {
     "name": "stdout",
     "output_type": "stream",
     "text": [
      "Number of Countries that had the virus:  169\n"
     ]
    }
   ],
   "source": [
    "n = merged['Country'].nunique()\n",
    "print('Number of Countries that had the virus: ', n)"
   ]
  },
  {
   "attachments": {},
   "cell_type": "markdown",
   "metadata": {},
   "source": [
    "4. Creating a Geographical Plot for Total Death Worldwide"
   ]
  },
  {
   "cell_type": "code",
   "execution_count": 22,
   "metadata": {},
   "outputs": [
    {
     "data": {
      "image/png": "[encoded data removed]",
      "text/plain": [
       "<Figure size 1296x864 with 2 Axes>"
      ]
     },
     "metadata": {
      "needs_background": "light"
     },
     "output_type": "display_data"
    }
   ],
   "source": [
    "fig, ax = plt.subplots(figsize=(18,12))\n",
    "merged.plot(column='Total Deaths', cmap='Reds', legend=True, ax=ax)\n",
    "ax.set_title('Global distribution of Total Covid-19 Deaths Worldwide')\n",
    "ax.set_axis_off()\n",
    "plt.show()"
   ]
  },
  {
   "attachments": {},
   "cell_type": "markdown",
   "metadata": {},
   "source": [
    "5. What are the top 5 countries with active cases"
   ]
  },
  {
   "cell_type": "code",
   "execution_count": 23,
   "metadata": {},
   "outputs": [
    {
     "data": {
      "text/html": [
       "<style type=\"text/css\">\n",
       "#T_b66bb_row0_col0, #T_b66bb_row1_col0, #T_b66bb_row2_col0, #T_b66bb_row3_col0, #T_b66bb_row4_col0 {\n",
       "  text-align: left;\n",
       "}\n",
       "</style>\n",
       "<table id=\"T_b66bb\">\n",
       "  <thead>\n",
       "    <tr>\n",
       "      <th class=\"blank level0\" >&nbsp;</th>\n",
       "      <th id=\"T_b66bb_level0_col0\" class=\"col_heading level0 col0\" >Country</th>\n",
       "      <th id=\"T_b66bb_level0_col1\" class=\"col_heading level0 col1\" >Active Cases</th>\n",
       "    </tr>\n",
       "  </thead>\n",
       "  <tbody>\n",
       "    <tr>\n",
       "      <th id=\"T_b66bb_level0_row0\" class=\"row_heading level0 row0\" >155</th>\n",
       "      <td id=\"T_b66bb_row0_col0\" class=\"data row0 col0\" >Japan</td>\n",
       "      <td id=\"T_b66bb_row0_col1\" class=\"data row0 col1\" >10952618</td>\n",
       "    </tr>\n",
       "    <tr>\n",
       "      <th id=\"T_b66bb_level0_row1\" class=\"row_heading level0 row1\" >4</th>\n",
       "      <td id=\"T_b66bb_row1_col0\" class=\"data row1 col0\" >United States of America</td>\n",
       "      <td id=\"T_b66bb_row1_col1\" class=\"data row1 col1\" >1741147</td>\n",
       "    </tr>\n",
       "    <tr>\n",
       "      <th id=\"T_b66bb_level0_row2\" class=\"row_heading level0 row2\" >113</th>\n",
       "      <td id=\"T_b66bb_row2_col0\" class=\"data row2 col0\" >Poland</td>\n",
       "      <td id=\"T_b66bb_row2_col1\" class=\"data row2 col1\" >925549</td>\n",
       "    </tr>\n",
       "    <tr>\n",
       "      <th id=\"T_b66bb_level0_row3\" class=\"row_heading level0 row3\" >94</th>\n",
       "      <td id=\"T_b66bb_row3_col0\" class=\"data row3 col0\" >Vietnam</td>\n",
       "      <td id=\"T_b66bb_row3_col1\" class=\"data row3 col1\" >870843</td>\n",
       "    </tr>\n",
       "    <tr>\n",
       "      <th id=\"T_b66bb_level0_row4\" class=\"row_heading level0 row4\" >27</th>\n",
       "      <td id=\"T_b66bb_row4_col0\" class=\"data row4 col0\" >Mexico</td>\n",
       "      <td id=\"T_b66bb_row4_col1\" class=\"data row4 col1\" >429421</td>\n",
       "    </tr>\n",
       "  </tbody>\n",
       "</table>\n"
      ],
      "text/plain": [
       "<pandas.io.formats.style.Styler at 0x2638f746c70>"
      ]
     },
     "execution_count": 23,
     "metadata": {},
     "output_type": "execute_result"
    }
   ],
   "source": [
    "merged_top5AC = merged.nlargest(5, 'Active Cases')\n",
    "top5AC = pd.DataFrame({\n",
    "        'Country': merged_top5AC['Country'],\n",
    "        'Active Cases': merged_top5AC['Active Cases']\n",
    "})\n",
    "top5AC['Active Cases'] = top5AC['Active Cases'].map('{:.0f}'.format)\n",
    "top5AC_style = top5AC.style.set_properties(subset=['Country'], **{'text-align': 'left'})\n",
    "top5AC_style"
   ]
  },
  {
   "cell_type": "code",
   "execution_count": 24,
   "metadata": {},
   "outputs": [
    {
     "data": {
      "image/png": "[encoded data removed]",
      "text/plain": [
       "<Figure size 864x648 with 1 Axes>"
      ]
     },
     "metadata": {
      "needs_background": "light"
     },
     "output_type": "display_data"
    }
   ],
   "source": [
    "Country = merged_top5AC['Country']\n",
    "Active_Cases = merged_top5AC['Active Cases']\n",
    "fig = plt.figure(figsize=(12, 9))\n",
    "plt.bar(Country, Active_Cases, color='red')\n",
    "plt.xlabel('Country', weight='bold')\n",
    "plt.ylabel('Active Cases', weight='bold')\n",
    "plt.title('Top 5 Countries by Active Cases', weight='bold')\n",
    "plt.show()"
   ]
  },
  {
   "attachments": {},
   "cell_type": "markdown",
   "metadata": {},
   "source": [
    "6. Top 5 Countries in Total Covid Recoveries"
   ]
  },
  {
   "cell_type": "code",
   "execution_count": 25,
   "metadata": {},
   "outputs": [
    {
     "data": {
      "text/html": [
       "<style type=\"text/css\">\n",
       "#T_c2ae3_row0_col0, #T_c2ae3_row1_col0, #T_c2ae3_row2_col0, #T_c2ae3_row3_col0, #T_c2ae3_row4_col0 {\n",
       "  text-align: left;\n",
       "}\n",
       "</style>\n",
       "<table id=\"T_c2ae3\">\n",
       "  <thead>\n",
       "    <tr>\n",
       "      <th class=\"blank level0\" >&nbsp;</th>\n",
       "      <th id=\"T_c2ae3_level0_col0\" class=\"col_heading level0 col0\" >Country</th>\n",
       "      <th id=\"T_c2ae3_level0_col1\" class=\"col_heading level0 col1\" >Total Recovered</th>\n",
       "    </tr>\n",
       "  </thead>\n",
       "  <tbody>\n",
       "    <tr>\n",
       "      <th id=\"T_c2ae3_level0_row0\" class=\"row_heading level0 row0\" >4</th>\n",
       "      <td id=\"T_c2ae3_row0_col0\" class=\"data row0 col0\" >United States of America</td>\n",
       "      <td id=\"T_c2ae3_row0_col1\" class=\"data row0 col1\" >101322779</td>\n",
       "    </tr>\n",
       "    <tr>\n",
       "      <th id=\"T_c2ae3_level0_row1\" class=\"row_heading level0 row1\" >98</th>\n",
       "      <td id=\"T_c2ae3_row1_col0\" class=\"data row1 col0\" >India</td>\n",
       "      <td id=\"T_c2ae3_row1_col1\" class=\"data row1 col1\" >44150289</td>\n",
       "    </tr>\n",
       "    <tr>\n",
       "      <th id=\"T_c2ae3_level0_row2\" class=\"row_heading level0 row2\" >43</th>\n",
       "      <td id=\"T_c2ae3_row2_col0\" class=\"data row2 col0\" >France</td>\n",
       "      <td id=\"T_c2ae3_row2_col1\" class=\"data row2 col1\" >39264546</td>\n",
       "    </tr>\n",
       "    <tr>\n",
       "      <th id=\"T_c2ae3_level0_row3\" class=\"row_heading level0 row3\" >121</th>\n",
       "      <td id=\"T_c2ae3_row3_col0\" class=\"data row3 col0\" >Germany</td>\n",
       "      <td id=\"T_c2ae3_row3_col1\" class=\"data row3 col1\" >37398100</td>\n",
       "    </tr>\n",
       "    <tr>\n",
       "      <th id=\"T_c2ae3_level0_row4\" class=\"row_heading level0 row4\" >29</th>\n",
       "      <td id=\"T_c2ae3_row4_col0\" class=\"data row4 col0\" >Brazil</td>\n",
       "      <td id=\"T_c2ae3_row4_col1\" class=\"data row4 col1\" >35919372</td>\n",
       "    </tr>\n",
       "  </tbody>\n",
       "</table>\n"
      ],
      "text/plain": [
       "<pandas.io.formats.style.Styler at 0x2638f8a2b80>"
      ]
     },
     "execution_count": 25,
     "metadata": {},
     "output_type": "execute_result"
    }
   ],
   "source": [
    "merged_top5TR = merged.nlargest(5, 'Total Recovered')\n",
    "top5TR = pd.DataFrame({\n",
    "        'Country': merged_top5TR['Country'],\n",
    "        'Total Recovered': merged_top5TR['Total Recovered']\n",
    "})\n",
    "top5TR['Total Recovered'] = top5TR['Total Recovered'].map('{:.0f}'.format)\n",
    "top5TR_style = top5TR.style.set_properties(subset=['Country'], **{'text-align': 'left'})\n",
    "top5TR_style"
   ]
  },
  {
   "cell_type": "code",
   "execution_count": 26,
   "metadata": {},
   "outputs": [
    {
     "data": {
      "image/png": "[encoded data removed]",
      "text/plain": [
       "<Figure size 864x648 with 1 Axes>"
      ]
     },
     "metadata": {
      "needs_background": "light"
     },
     "output_type": "display_data"
    }
   ],
   "source": [
    "Country = merged_top5TR['Country']\n",
    "Total_Recovered = merged_top5TR['Total Recovered']\n",
    "fig = plt.figure(figsize=(12, 9))\n",
    "plt.bar(Country, Total_Recovered, color='green')\n",
    "plt.xlabel('Country', weight='bold')\n",
    "plt.ylabel('Total Recovered', weight='bold')\n",
    "plt.title('Top 5 Countries by Recoveries', weight='bold')\n",
    "plt.show()"
   ]
  },
  {
   "attachments": {},
   "cell_type": "markdown",
   "metadata": {},
   "source": [
    "7. Top 5 Countries who conducted the most Covid-Tests"
   ]
  },
  {
   "cell_type": "code",
   "execution_count": 27,
   "metadata": {},
   "outputs": [
    {
     "data": {
      "text/html": [
       "<style type=\"text/css\">\n",
       "#T_0f933_row0_col0, #T_0f933_row1_col0, #T_0f933_row2_col0, #T_0f933_row3_col0, #T_0f933_row4_col0 {\n",
       "  text-align: left;\n",
       "}\n",
       "</style>\n",
       "<table id=\"T_0f933\">\n",
       "  <thead>\n",
       "    <tr>\n",
       "      <th class=\"blank level0\" >&nbsp;</th>\n",
       "      <th id=\"T_0f933_level0_col0\" class=\"col_heading level0 col0\" >Country</th>\n",
       "      <th id=\"T_0f933_level0_col1\" class=\"col_heading level0 col1\" >Total Test</th>\n",
       "    </tr>\n",
       "  </thead>\n",
       "  <tbody>\n",
       "    <tr>\n",
       "      <th id=\"T_0f933_level0_row0\" class=\"row_heading level0 row0\" >4</th>\n",
       "      <td id=\"T_0f933_row0_col0\" class=\"data row0 col0\" >United States of America</td>\n",
       "      <td id=\"T_0f933_row0_col1\" class=\"data row0 col1\" >1159832679</td>\n",
       "    </tr>\n",
       "    <tr>\n",
       "      <th id=\"T_0f933_level0_row1\" class=\"row_heading level0 row1\" >98</th>\n",
       "      <td id=\"T_0f933_row1_col0\" class=\"data row1 col0\" >India</td>\n",
       "      <td id=\"T_0f933_row1_col1\" class=\"data row1 col1\" >915265788</td>\n",
       "    </tr>\n",
       "    <tr>\n",
       "      <th id=\"T_0f933_level0_row2\" class=\"row_heading level0 row2\" >143</th>\n",
       "      <td id=\"T_0f933_row2_col0\" class=\"data row2 col0\" >United Kingdom</td>\n",
       "      <td id=\"T_0f933_row2_col1\" class=\"data row2 col1\" >522526476</td>\n",
       "    </tr>\n",
       "    <tr>\n",
       "      <th id=\"T_0f933_level0_row3\" class=\"row_heading level0 row3\" >132</th>\n",
       "      <td id=\"T_0f933_row3_col0\" class=\"data row3 col0\" >Spain</td>\n",
       "      <td id=\"T_0f933_row3_col1\" class=\"data row3 col1\" >471036328</td>\n",
       "    </tr>\n",
       "    <tr>\n",
       "      <th id=\"T_0f933_level0_row4\" class=\"row_heading level0 row4\" >18</th>\n",
       "      <td id=\"T_0f933_row4_col0\" class=\"data row4 col0\" >Russia</td>\n",
       "      <td id=\"T_0f933_row4_col1\" class=\"data row4 col1\" >273400000</td>\n",
       "    </tr>\n",
       "  </tbody>\n",
       "</table>\n"
      ],
      "text/plain": [
       "<pandas.io.formats.style.Styler at 0x2638f976b80>"
      ]
     },
     "execution_count": 27,
     "metadata": {},
     "output_type": "execute_result"
    }
   ],
   "source": [
    "merged_top5CT = merged.nlargest(5, 'Total Test')\n",
    "top5CT = pd.DataFrame({\n",
    "        'Country': merged_top5CT['Country'],\n",
    "        'Total Test': merged_top5CT['Total Test']\n",
    "})\n",
    "top5CT['Total Test'] = top5CT['Total Test'].map('{:.0f}'.format)\n",
    "top5CT_style = top5CT.style.set_properties(subset=['Country'], **{'text-align': 'left'})\n",
    "top5CT_style"
   ]
  },
  {
   "cell_type": "code",
   "execution_count": 28,
   "metadata": {},
   "outputs": [
    {
     "data": {
      "image/png": "[encoded data removed]",
      "text/plain": [
       "<Figure size 864x648 with 1 Axes>"
      ]
     },
     "metadata": {
      "needs_background": "light"
     },
     "output_type": "display_data"
    }
   ],
   "source": [
    "Country = merged_top5CT['Country']\n",
    "Total_Test = merged_top5CT['Total Test']\n",
    "fig = plt.figure(figsize=(12, 9))\n",
    "plt.bar(Country, Total_Test, color='aqua')\n",
    "plt.xlabel('Country', weight='bold')\n",
    "plt.ylabel('Total Test', weight='bold')\n",
    "plt.title('Top 5 Countries by Covid Tests', weight='bold')\n",
    "plt.show()"
   ]
  },
  {
   "attachments": {},
   "cell_type": "markdown",
   "metadata": {},
   "source": [
    "8. What is the relationship between Population and Active Cases "
   ]
  },
  {
   "cell_type": "code",
   "execution_count": 29,
   "metadata": {},
   "outputs": [
    {
     "data": {
      "text/html": [
       "<div>\n",
       "<style scoped>\n",
       "    .dataframe tbody tr th:only-of-type {\n",
       "        vertical-align: middle;\n",
       "    }\n",
       "\n",
       "    .dataframe tbody tr th {\n",
       "        vertical-align: top;\n",
       "    }\n",
       "\n",
       "    .dataframe thead th {\n",
       "        text-align: right;\n",
       "    }\n",
       "</style>\n",
       "<table border=\"1\" class=\"dataframe\">\n",
       "  <thead>\n",
       "    <tr style=\"text-align: right;\">\n",
       "      <th></th>\n",
       "      <th>Country</th>\n",
       "      <th>Population</th>\n",
       "      <th>Active Cases</th>\n",
       "    </tr>\n",
       "  </thead>\n",
       "  <tbody>\n",
       "    <tr>\n",
       "      <th>0</th>\n",
       "      <td>Fiji</td>\n",
       "      <td>909466.0</td>\n",
       "      <td>1157.0</td>\n",
       "    </tr>\n",
       "    <tr>\n",
       "      <th>1</th>\n",
       "      <td>Tanzania</td>\n",
       "      <td>63298550.0</td>\n",
       "      <td>0.0</td>\n",
       "    </tr>\n",
       "    <tr>\n",
       "      <th>2</th>\n",
       "      <td>W. Sahara</td>\n",
       "      <td>626161.0</td>\n",
       "      <td>0.0</td>\n",
       "    </tr>\n",
       "    <tr>\n",
       "      <th>3</th>\n",
       "      <td>Canada</td>\n",
       "      <td>38388419.0</td>\n",
       "      <td>55863.0</td>\n",
       "    </tr>\n",
       "    <tr>\n",
       "      <th>4</th>\n",
       "      <td>United States of America</td>\n",
       "      <td>334805269.0</td>\n",
       "      <td>1741147.0</td>\n",
       "    </tr>\n",
       "  </tbody>\n",
       "</table>\n",
       "</div>"
      ],
      "text/plain": [
       "                    Country   Population  Active Cases\n",
       "0                      Fiji     909466.0        1157.0\n",
       "1                  Tanzania   63298550.0           0.0\n",
       "2                 W. Sahara     626161.0           0.0\n",
       "3                    Canada   38388419.0       55863.0\n",
       "4  United States of America  334805269.0     1741147.0"
      ]
     },
     "execution_count": 29,
     "metadata": {},
     "output_type": "execute_result"
    }
   ],
   "source": [
    "Con_Pop_Case = pd.DataFrame({\n",
    "    'Country': merged['Country'],\n",
    "    'Population': merged['Population'],\n",
    "    'Active Cases': merged['Active Cases']\n",
    "})\n",
    "\n",
    "Con_Pop_Case.head()"
   ]
  },
  {
   "cell_type": "code",
   "execution_count": 30,
   "metadata": {},
   "outputs": [
    {
     "data": {
      "image/png": "[encoded data removed]",
      "text/plain": [
       "<Figure size 864x648 with 1 Axes>"
      ]
     },
     "metadata": {
      "needs_background": "light"
     },
     "output_type": "display_data"
    }
   ],
   "source": [
    "x = Con_Pop_Case['Population']\n",
    "y = Con_Pop_Case['Active Cases']\n",
    "\n",
    "fig = plt.figure(figsize=(12, 9))\n",
    "plt.scatter(x, y)\n",
    "z = np.polyfit(x, y, 1)\n",
    "p = np.poly1d(z)\n",
    "plt.plot(x,p(x),'r--')\n",
    "corr_coef = np.corrcoef(x, y)[0, 1]\n",
    "\n",
    "plt.xlabel('Population', weight='bold')\n",
    "plt.ylabel('Active Cases', weight='bold')\n",
    "plt.title('Relationship between Population and Active Cases', weight='bold')\n",
    "plt.text(0.5, 1.1, f\"Correlation coefficient = {corr_coef:.2f}\", ha='center', va='center', weight='bold', transform=plt.gca().transAxes)\n",
    "plt.show()"
   ]
  },
  {
   "attachments": {},
   "cell_type": "markdown",
   "metadata": {},
   "source": [
    "9. The relationship between total covid test and the total number of people who recovered from covid"
   ]
  },
  {
   "cell_type": "code",
   "execution_count": 31,
   "metadata": {},
   "outputs": [
    {
     "data": {
      "text/html": [
       "<div>\n",
       "<style scoped>\n",
       "    .dataframe tbody tr th:only-of-type {\n",
       "        vertical-align: middle;\n",
       "    }\n",
       "\n",
       "    .dataframe tbody tr th {\n",
       "        vertical-align: top;\n",
       "    }\n",
       "\n",
       "    .dataframe thead th {\n",
       "        text-align: right;\n",
       "    }\n",
       "</style>\n",
       "<table border=\"1\" class=\"dataframe\">\n",
       "  <thead>\n",
       "    <tr style=\"text-align: right;\">\n",
       "      <th></th>\n",
       "      <th>Country</th>\n",
       "      <th>Total Recovered</th>\n",
       "      <th>Total Test</th>\n",
       "    </tr>\n",
       "  </thead>\n",
       "  <tbody>\n",
       "    <tr>\n",
       "      <th>0</th>\n",
       "      <td>Fiji</td>\n",
       "      <td>66780.0</td>\n",
       "      <td>6.677150e+05</td>\n",
       "    </tr>\n",
       "    <tr>\n",
       "      <th>1</th>\n",
       "      <td>Tanzania</td>\n",
       "      <td>0.0</td>\n",
       "      <td>0.000000e+00</td>\n",
       "    </tr>\n",
       "    <tr>\n",
       "      <th>2</th>\n",
       "      <td>W. Sahara</td>\n",
       "      <td>9.0</td>\n",
       "      <td>0.000000e+00</td>\n",
       "    </tr>\n",
       "    <tr>\n",
       "      <th>3</th>\n",
       "      <td>Canada</td>\n",
       "      <td>4444013.0</td>\n",
       "      <td>6.634312e+07</td>\n",
       "    </tr>\n",
       "    <tr>\n",
       "      <th>4</th>\n",
       "      <td>United States of America</td>\n",
       "      <td>101322779.0</td>\n",
       "      <td>1.159833e+09</td>\n",
       "    </tr>\n",
       "  </tbody>\n",
       "</table>\n",
       "</div>"
      ],
      "text/plain": [
       "                    Country  Total Recovered    Total Test\n",
       "0                      Fiji          66780.0  6.677150e+05\n",
       "1                  Tanzania              0.0  0.000000e+00\n",
       "2                 W. Sahara              9.0  0.000000e+00\n",
       "3                    Canada        4444013.0  6.634312e+07\n",
       "4  United States of America      101322779.0  1.159833e+09"
      ]
     },
     "execution_count": 31,
     "metadata": {},
     "output_type": "execute_result"
    }
   ],
   "source": [
    "Con_Test_Rec = pd.DataFrame({\n",
    "    'Country': merged['Country'],\n",
    "    'Total Recovered': merged['Total Recovered'],\n",
    "    'Total Test': merged['Total Test']\n",
    "})\n",
    "\n",
    "Con_Test_Rec.head()"
   ]
  },
  {
   "cell_type": "code",
   "execution_count": 32,
   "metadata": {},
   "outputs": [
    {
     "data": {
      "image/png": "[encoded data removed]",
      "text/plain": [
       "<Figure size 864x648 with 1 Axes>"
      ]
     },
     "metadata": {
      "needs_background": "light"
     },
     "output_type": "display_data"
    }
   ],
   "source": [
    "x = Con_Test_Rec['Total Recovered']\n",
    "y = Con_Test_Rec['Total Test']\n",
    "\n",
    "fig = plt.figure(figsize=(12, 9))\n",
    "plt.scatter(x, y)\n",
    "z = np.polyfit(x, y, 1)\n",
    "p = np.poly1d(z)\n",
    "plt.plot(x,p(x),'r--')\n",
    "corr_coef = np.corrcoef(x, y)[0, 1]\n",
    "\n",
    "plt.xlabel('Total Recovered', weight='bold')\n",
    "plt.ylabel('Total Test', weight='bold')\n",
    "plt.title('Relationship between Recoveries and Tests', weight='bold')\n",
    "plt.text(0.5, 1.1, f\"Correlation coefficient = {corr_coef:.2f}\", ha='center', va='center', weight='bold', transform=plt.gca().transAxes)\n",
    "plt.show()"
   ]
  }
 ],
 "metadata": {
  "kernelspec": {
   "display_name": "Python 3.9.6 64-bit",
   "language": "python",
   "name": "python3"
  },
  "language_info": {
   "codemirror_mode": {
    "name": "ipython",
    "version": 3
   },
   "file_extension": ".py",
   "mimetype": "text/x-python",
   "name": "python",
   "nbconvert_exporter": "python",
   "pygments_lexer": "ipython3",
   "version": "3.9.6"
  },
  "orig_nbformat": 4,
  "vscode": {
   "interpreter": {
    "hash": "52634da84371cba311ea128a5ea7cdc41ff074b781779e754b270ff9f8153cee"
   }
  }
 },
 "nbformat": 4,
 "nbformat_minor": 2
}
